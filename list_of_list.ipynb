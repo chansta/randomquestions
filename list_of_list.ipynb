{
 "cells": [
  {
   "cell_type": "markdown",
   "metadata": {},
   "source": [
    "List of list\n",
    "----------\n",
    "\n",
    "Just some code snippet to show how one can handle multi-dimensional list. \n",
    "\n"
   ]
  },
  {
   "cell_type": "code",
   "execution_count": 1,
   "metadata": {},
   "outputs": [],
   "source": [
    "import numpy as np\n",
    "import pandas as pd"
   ]
  },
  {
   "cell_type": "markdown",
   "metadata": {},
   "source": [
    "First we create an example list"
   ]
  },
  {
   "cell_type": "code",
   "execution_count": 7,
   "metadata": {},
   "outputs": [
    {
     "data": {
      "text/plain": [
       "[[[1, 2]], [[3, 4]], [[-1, -2], [-3, -4]], [[-5, 6], [3, 1], [3, 4]]]"
      ]
     },
     "execution_count": 7,
     "metadata": {},
     "output_type": "execute_result"
    }
   ],
   "source": [
    "A = [[[1,2]], [[3,4]], [[-1,-2], [-3,-4]], [[-5,6], [3,1], [3,4]]]\n",
    "A"
   ]
  },
  {
   "cell_type": "markdown",
   "metadata": {},
   "source": [
    "Note that this is 3-dimensional list. It mimicks your situation where you have a list of cluster reults. Each result contains a list of longtitudes and latitudes information. In other words, each result is a matrix. \n",
    "\n",
    "We can obviously convert this to a numpy array. "
   ]
  },
  {
   "cell_type": "code",
   "execution_count": 8,
   "metadata": {},
   "outputs": [
    {
     "data": {
      "text/plain": [
       "array([list([[1, 2]]), list([[3, 4]]), list([[-1, -2], [-3, -4]]),\n",
       "       list([[-5, 6], [3, 1], [3, 4]])], dtype=object)"
      ]
     },
     "execution_count": 8,
     "metadata": {},
     "output_type": "execute_result"
    }
   ],
   "source": [
    "Anp = np.array(A)\n",
    "Anp"
   ]
  },
  {
   "cell_type": "markdown",
   "metadata": {},
   "source": [
    "To flattern it (see also the function flattern under numpy, which is related but won't work in your case), we can try the following:"
   ]
  },
  {
   "cell_type": "code",
   "execution_count": 13,
   "metadata": {},
   "outputs": [],
   "source": [
    "FA = []\n",
    "for i,r in enumerate(A):\n",
    "    for j,e in enumerate(r):\n",
    "        FA.append(np.array([i,j]+e))\n",
    "FA = np.array(FA)"
   ]
  },
  {
   "cell_type": "code",
   "execution_count": 14,
   "metadata": {},
   "outputs": [
    {
     "data": {
      "text/plain": [
       "array([[ 0,  0,  1,  2],\n",
       "       [ 1,  0,  3,  4],\n",
       "       [ 2,  0, -1, -2],\n",
       "       [ 2,  1, -3, -4],\n",
       "       [ 3,  0, -5,  6],\n",
       "       [ 3,  1,  3,  1],\n",
       "       [ 3,  2,  3,  4]])"
      ]
     },
     "execution_count": 14,
     "metadata": {},
     "output_type": "execute_result"
    }
   ],
   "source": [
    "FA"
   ]
  },
  {
   "cell_type": "markdown",
   "metadata": {},
   "source": [
    "The first column gives you the index of the result, the second column gives you the index of each cluster member within the same results, the third and fourth columns give you the long and lag information, respectively. \n",
    "\n",
    "You can then easily import this into a datafram "
   ]
  },
  {
   "cell_type": "code",
   "execution_count": null,
   "metadata": {},
   "outputs": [],
   "source": []
  }
 ],
 "metadata": {
  "kernelspec": {
   "display_name": "Python 3",
   "language": "python",
   "name": "python3"
  },
  "language_info": {
   "codemirror_mode": {
    "name": "ipython",
    "version": 3
   },
   "file_extension": ".py",
   "mimetype": "text/x-python",
   "name": "python",
   "nbconvert_exporter": "python",
   "pygments_lexer": "ipython3",
   "version": "3.5.4"
  }
 },
 "nbformat": 4,
 "nbformat_minor": 2
}
